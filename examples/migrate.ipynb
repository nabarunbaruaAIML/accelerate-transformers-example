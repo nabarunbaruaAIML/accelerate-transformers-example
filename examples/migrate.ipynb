{
 "cells": [
  {
   "cell_type": "markdown",
   "metadata": {},
   "source": [
    "# Migrate form PyTorch to Accelerate\n",
    "\n",
    "### Distilbert example"
   ]
  },
  {
   "cell_type": "markdown",
   "metadata": {},
   "source": [
    "## Pytorch example"
   ]
  },
  {
   "cell_type": "markdown",
   "metadata": {},
   "source": [
    "### 1. Load Model & Datasets"
   ]
  },
  {
   "cell_type": "code",
   "execution_count": null,
   "metadata": {},
   "outputs": [],
   "source": [
    "from transformers import AutoModelForSequenceClassification, AutoTokenizer\n",
    "from datasets import load_dataset\n",
    "\n",
    "model_id=\"distilbert-base-uncased\"\n",
    "dataset_id=\"emotion\"\n",
    "\n",
    "model=AutoModelForSequenceClassification.from_pretrained(model_id,num_labels=6)\n",
    "tokenizer=AutoTokenizer.from_pretrained(model_id)\n",
    "\n",
    "dataset= load_dataset(dataset_id)\n",
    "\n",
    "def preprocess(sample):\n",
    "  enc = tokenizer(sample[\"text\"],truncation=True)\n",
    "  if \"label\" in sample:\n",
    "    enc[\"labels\"] = sample[\"label\"]\n",
    "  return enc\n",
    "\n",
    "dataset=dataset.map(preprocess,batched=True,remove_columns=dataset[\"train\"].column_names)\n",
    "\n",
    "print(f\"Train dataset size: {len(dataset['train'])}\")\n",
    "print(f\"Dataset columns: {dataset['train'].column_names}\")\n",
    "print(f\"Validation dataset size: {len(dataset['validation'])}\")\n"
   ]
  },
  {
   "cell_type": "markdown",
   "metadata": {},
   "source": [
    "### 2. Hyperparameters, Dataloader, Optimizer"
   ]
  },
  {
   "cell_type": "code",
   "execution_count": 10,
   "metadata": {},
   "outputs": [],
   "source": [
    "from torch.optim import AdamW\n",
    "from torch.utils.data import DataLoader\n",
    "from transformers import get_linear_schedule_with_warmup,DataCollatorWithPadding\n",
    "\n",
    "###### Hyperparameters ######\n",
    "TRAIN_BATCH_SIZE = 64\n",
    "EVAL_BATCH_SIZE = 64\n",
    "LEARNING_RATE = 3e-5\n",
    "NUM_EPOCHS = 3\n",
    "\n",
    "###### Data Loaders ######\n",
    "data_collator = DataCollatorWithPadding(tokenizer, pad_to_multiple_of=8)\n",
    "\n",
    "# Instantiate dataloaders.\n",
    "train_dataloader = DataLoader(\n",
    "  dataset[\"train\"], shuffle=True, collate_fn=data_collator, batch_size=TRAIN_BATCH_SIZE\n",
    ")\n",
    "eval_dataloader = DataLoader(\n",
    "  dataset[\"validation\"], shuffle=False, collate_fn=data_collator, batch_size=EVAL_BATCH_SIZE\n",
    ")\n",
    "\n",
    "###### Optimizer ######\n",
    "optimizer = AdamW(params=model.parameters(), lr=LEARNING_RATE)\n",
    "lr_scheduler = get_linear_schedule_with_warmup(optimizer, num_warmup_steps=0, num_training_steps=len(train_dataloader) * NUM_EPOCHS)"
   ]
  },
  {
   "cell_type": "markdown",
   "metadata": {},
   "source": [
    "### 3. Vanilla PyTorch Training"
   ]
  },
  {
   "cell_type": "code",
   "execution_count": 11,
   "metadata": {},
   "outputs": [
    {
     "name": "stderr",
     "output_type": "stream",
     "text": [
      "Epoch 0: 100%|██████████| 250/250 [01:12<00:00,  3.47it/s, loss=0.239]\n",
      "Epoch 1: 100%|██████████| 250/250 [01:16<00:00,  3.28it/s, loss=0.157] \n",
      "Epoch 2: 100%|██████████| 250/250 [01:19<00:00,  3.15it/s, loss=0.0897]\n"
     ]
    }
   ],
   "source": [
    "import torch\n",
    "import evaluate\n",
    "from tqdm import tqdm\n",
    "import logging\n",
    "\n",
    "device = \"cuda\" if torch.cuda.is_available() else \"cpu\"\n",
    "model.to(device)\n",
    "\n",
    "# epoch train loop\n",
    "for epoch in range(NUM_EPOCHS):\n",
    "  model.train()\n",
    "  # mini-batch train loop\n",
    "  with tqdm(train_dataloader) as pbar:\n",
    "      pbar.set_description(f\"Epoch {epoch+1}\")\n",
    "      for batch in pbar:\n",
    "        # reset gradient\n",
    "        optimizer.zero_grad()\n",
    "        # move to device\n",
    "        inputs = {k : v.to(device) for k,v in batch.items()}\n",
    "        # forward pass\n",
    "        outputs = model(**inputs)\n",
    "        # backward pass\n",
    "        outputs.loss.backward()\n",
    "        optimizer.step()\n",
    "        lr_scheduler.step()\n",
    "        pbar.set_postfix(loss=float(outputs.loss))\n",
    "\n"
   ]
  },
  {
   "cell_type": "markdown",
   "metadata": {},
   "source": [
    "### 4. Evaluate model"
   ]
  },
  {
   "cell_type": "code",
   "execution_count": 28,
   "metadata": {},
   "outputs": [
    {
     "name": "stderr",
     "output_type": "stream",
     "text": [
      "100%|██████████| 63/63 [00:04<00:00, 15.60it/s]"
     ]
    },
    {
     "name": "stdout",
     "output_type": "stream",
     "text": [
      "94.0%\n"
     ]
    },
    {
     "name": "stderr",
     "output_type": "stream",
     "text": [
      "\n"
     ]
    }
   ],
   "source": [
    "# evaluate model\n",
    "metric = evaluate.load(\"accuracy\")\n",
    "model.eval()\n",
    "with tqdm(eval_dataloader) as pbar:\n",
    "    for batch in pbar:\n",
    "      # move to device\n",
    "      inputs = {k : v.to(device) for k,v in batch.items()}\n",
    "      # forward pass\n",
    "      with torch.no_grad():\n",
    "        outputs = model(**inputs)\n",
    "      # get predicted label\n",
    "      predictions = outputs.logits.argmax(dim=-1)\n",
    "      # add to metric\n",
    "      metric.add_batch(references=batch[\"labels\"].tolist(), predictions=predictions.tolist())\n",
    "cur_metric = metric.compute()\n",
    "print(f\"Accuracy: {cur_metric['accuracy']*100}%\")\n"
   ]
  }
 ],
 "metadata": {
  "kernelspec": {
   "display_name": "Python 3.9.13 ('dev')",
   "language": "python",
   "name": "python3"
  },
  "language_info": {
   "codemirror_mode": {
    "name": "ipython",
    "version": 3
   },
   "file_extension": ".py",
   "mimetype": "text/x-python",
   "name": "python",
   "nbconvert_exporter": "python",
   "pygments_lexer": "ipython3",
   "version": "3.9.13"
  },
  "orig_nbformat": 4,
  "vscode": {
   "interpreter": {
    "hash": "f6dd96c16031089903d5a31ec148b80aeb0d39c32affb1a1080393235fbfa2fc"
   }
  }
 },
 "nbformat": 4,
 "nbformat_minor": 2
}
