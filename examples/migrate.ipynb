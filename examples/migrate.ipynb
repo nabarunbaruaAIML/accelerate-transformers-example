{
 "cells": [
  {
   "cell_type": "markdown",
   "metadata": {},
   "source": [
    "# Migrate form PyTorch to Accelerate\n",
    "\n",
    "### Distilbert example"
   ]
  },
  {
   "cell_type": "markdown",
   "metadata": {},
   "source": [
    "## General Utils\n",
    "\n",
    "### Load Model & Datasets"
   ]
  },
  {
   "cell_type": "code",
   "execution_count": 9,
   "metadata": {},
   "outputs": [
    {
     "name": "stderr",
     "output_type": "stream",
     "text": [
      "Some weights of the model checkpoint at distilbert-base-uncased were not used when initializing DistilBertForSequenceClassification: ['vocab_projector.bias', 'vocab_transform.weight', 'vocab_layer_norm.bias', 'vocab_transform.bias', 'vocab_layer_norm.weight', 'vocab_projector.weight']\n",
      "- This IS expected if you are initializing DistilBertForSequenceClassification from the checkpoint of a model trained on another task or with another architecture (e.g. initializing a BertForSequenceClassification model from a BertForPreTraining model).\n",
      "- This IS NOT expected if you are initializing DistilBertForSequenceClassification from the checkpoint of a model that you expect to be exactly identical (initializing a BertForSequenceClassification model from a BertForSequenceClassification model).\n",
      "Some weights of DistilBertForSequenceClassification were not initialized from the model checkpoint at distilbert-base-uncased and are newly initialized: ['classifier.weight', 'pre_classifier.bias', 'pre_classifier.weight', 'classifier.bias']\n",
      "You should probably TRAIN this model on a down-stream task to be able to use it for predictions and inference.\n",
      "Using custom data configuration default\n",
      "Reusing dataset emotion (/home/ubuntu/.cache/huggingface/datasets/emotion/default/0.0.0/348f63ca8e27b3713b6c04d723efe6d824a56fb3d1449794716c0f0296072705)\n"
     ]
    },
    {
     "data": {
      "application/vnd.jupyter.widget-view+json": {
       "model_id": "a079d40608ba4de0961c1e7d662be20d",
       "version_major": 2,
       "version_minor": 0
      },
      "text/plain": [
       "  0%|          | 0/3 [00:00<?, ?it/s]"
      ]
     },
     "metadata": {},
     "output_type": "display_data"
    },
    {
     "name": "stderr",
     "output_type": "stream",
     "text": [
      "Loading cached processed dataset at /home/ubuntu/.cache/huggingface/datasets/emotion/default/0.0.0/348f63ca8e27b3713b6c04d723efe6d824a56fb3d1449794716c0f0296072705/cache-d80fa21c019591e3.arrow\n",
      "Loading cached processed dataset at /home/ubuntu/.cache/huggingface/datasets/emotion/default/0.0.0/348f63ca8e27b3713b6c04d723efe6d824a56fb3d1449794716c0f0296072705/cache-fb9eb107896e5216.arrow\n",
      "Loading cached processed dataset at /home/ubuntu/.cache/huggingface/datasets/emotion/default/0.0.0/348f63ca8e27b3713b6c04d723efe6d824a56fb3d1449794716c0f0296072705/cache-1bf19eb875cbef47.arrow\n"
     ]
    },
    {
     "name": "stdout",
     "output_type": "stream",
     "text": [
      "Train dataset size: 16000\n",
      "Dataset columns: ['input_ids', 'attention_mask', 'labels']\n",
      "Validation dataset size: 2000\n"
     ]
    }
   ],
   "source": [
    "from transformers import AutoModelForSequenceClassification, AutoTokenizer\n",
    "from datasets import load_dataset\n",
    "\n",
    "model_id=\"distilbert-base-uncased\"\n",
    "dataset_id=\"emotion\"\n",
    "\n",
    "model=AutoModelForSequenceClassification.from_pretrained(model_id,num_labels=6)\n",
    "tokenizer=AutoTokenizer.from_pretrained(model_id)\n",
    "\n",
    "dataset= load_dataset(dataset_id)\n",
    "\n",
    "def preprocess(sample):\n",
    "  enc = tokenizer(sample[\"text\"],truncation=True)\n",
    "  if \"label\" in sample:\n",
    "    enc[\"labels\"] = sample[\"label\"]\n",
    "  return enc\n",
    "\n",
    "dataset=dataset.map(preprocess,batched=True,remove_columns=dataset[\"train\"].column_names)\n",
    "\n",
    "print(f\"Train dataset size: {len(dataset['train'])}\")\n",
    "print(f\"Dataset columns: {dataset['train'].column_names}\")\n",
    "print(f\"Validation dataset size: {len(dataset['validation'])}\")\n"
   ]
  },
  {
   "cell_type": "markdown",
   "metadata": {},
   "source": [
    "### Hyperparameters, Dataloader, Optimizer"
   ]
  },
  {
   "cell_type": "code",
   "execution_count": 10,
   "metadata": {},
   "outputs": [],
   "source": [
    "from torch.optim import AdamW\n",
    "from torch.utils.data import DataLoader\n",
    "from transformers import get_linear_schedule_with_warmup,DataCollatorWithPadding\n",
    "\n",
    "###### Hyperparameters ######\n",
    "TRAIN_BATCH_SIZE = 64\n",
    "EVAL_BATCH_SIZE = 64\n",
    "LEARNING_RATE = 3e-5\n",
    "NUM_EPOCHS = 3\n",
    "\n",
    "###### Data Loaders ######\n",
    "data_collator = DataCollatorWithPadding(tokenizer, pad_to_multiple_of=8)\n",
    "\n",
    "# Instantiate dataloaders.\n",
    "train_dataloader = DataLoader(\n",
    "  dataset[\"train\"], shuffle=True, collate_fn=data_collator, batch_size=TRAIN_BATCH_SIZE\n",
    ")\n",
    "eval_dataloader = DataLoader(\n",
    "  dataset[\"validation\"], shuffle=False, collate_fn=data_collator, batch_size=EVAL_BATCH_SIZE\n",
    ")\n",
    "\n",
    "###### Optimizer ######\n",
    "optimizer = AdamW(params=model.parameters(), lr=LEARNING_RATE)\n",
    "lr_scheduler = get_linear_schedule_with_warmup(optimizer, num_warmup_steps=0, num_training_steps=len(train_dataloader) * NUM_EPOCHS)"
   ]
  },
  {
   "cell_type": "markdown",
   "metadata": {},
   "source": [
    "## Pytorch example"
   ]
  },
  {
   "cell_type": "markdown",
   "metadata": {},
   "source": [
    "### PyTorch Training"
   ]
  },
  {
   "cell_type": "code",
   "execution_count": 11,
   "metadata": {},
   "outputs": [
    {
     "name": "stderr",
     "output_type": "stream",
     "text": [
      "Epoch 1: 100%|██████████| 250/250 [01:13<00:00,  3.42it/s, loss=0.175]\n",
      "Epoch 2: 100%|██████████| 250/250 [01:15<00:00,  3.33it/s, loss=0.111] \n",
      "Epoch 3: 100%|██████████| 250/250 [01:17<00:00,  3.23it/s, loss=0.0334]\n"
     ]
    }
   ],
   "source": [
    "import torch\n",
    "import evaluate\n",
    "from tqdm import tqdm\n",
    "import logging\n",
    "\n",
    "device = \"cuda\" if torch.cuda.is_available() else \"cpu\"\n",
    "model.to(device)\n",
    "\n",
    "# epoch train loop\n",
    "for epoch in range(NUM_EPOCHS):\n",
    "  model.train()\n",
    "  # mini-batch train loop\n",
    "  with tqdm(train_dataloader) as pbar:\n",
    "      pbar.set_description(f\"Epoch {epoch+1}\")\n",
    "      for batch in pbar:\n",
    "        # reset gradient\n",
    "        optimizer.zero_grad()\n",
    "        # move to device\n",
    "        inputs = {k : v.to(device) for k,v in batch.items()}\n",
    "        # forward pass\n",
    "        outputs = model(**inputs)\n",
    "        # backward pass\n",
    "        outputs.loss.backward()\n",
    "        optimizer.step()\n",
    "        lr_scheduler.step()\n",
    "        pbar.set_postfix(loss=float(outputs.loss))\n",
    "\n"
   ]
  },
  {
   "cell_type": "markdown",
   "metadata": {},
   "source": [
    "###  Evaluate model"
   ]
  },
  {
   "cell_type": "code",
   "execution_count": 12,
   "metadata": {},
   "outputs": [
    {
     "name": "stderr",
     "output_type": "stream",
     "text": [
      "100%|██████████| 32/32 [00:03<00:00,  9.50it/s]"
     ]
    },
    {
     "name": "stdout",
     "output_type": "stream",
     "text": [
      "Accuracy: 93.4%\n"
     ]
    },
    {
     "name": "stderr",
     "output_type": "stream",
     "text": [
      "\n"
     ]
    }
   ],
   "source": [
    "# evaluate model\n",
    "metric = evaluate.load(\"accuracy\")\n",
    "model.eval()\n",
    "with tqdm(eval_dataloader) as pbar:\n",
    "    for batch in pbar:\n",
    "      # move to device\n",
    "      inputs = {k : v.to(device) for k,v in batch.items()}\n",
    "      # forward pass\n",
    "      with torch.no_grad():\n",
    "        outputs = model(**inputs)\n",
    "      # get predicted label\n",
    "      predictions = outputs.logits.argmax(dim=-1)\n",
    "      # add to metric\n",
    "      metric.add_batch(references=batch[\"labels\"].tolist(), predictions=predictions.tolist())\n",
    "cur_metric = metric.compute()\n",
    "print(f\"Accuracy: {cur_metric['accuracy']*100}%\")\n"
   ]
  },
  {
   "cell_type": "markdown",
   "metadata": {},
   "source": [
    "## accelerate migration\n",
    "\n",
    "[[Documentation]: Migrating your code to 🤗 Accelerate](https://huggingface.co/docs/accelerate/basic_tutorials/migration)\n",
    "\n",
    "```diff\n",
    "  import torch\n",
    "  import torch.nn.functional as F\n",
    "  from datasets import load_dataset\n",
    "+ from accelerate import Accelerator\n",
    "\n",
    "+ accelerator = Accelerator()\n",
    "- device = 'cpu'\n",
    "+ device = accelerator.device\n",
    "\n",
    "+ model, optimizer, data = accelerator.prepare(model, optimizer, data)\n",
    "\n",
    "  model.train()\n",
    "  for epoch in range(10):\n",
    "      for source, targets in data:\n",
    "-         source = source.to(device)\n",
    "-         targets = targets.to(device)\n",
    "\n",
    "          optimizer.zero_grad()\n",
    "\n",
    "          output = model(source)\n",
    "          loss = F.cross_entropy(output, targets)\n",
    "\n",
    "-         loss.backward()\n",
    "+         accelerator.backward(loss)\n",
    "\n",
    "          optimizer.step()\n",
    "```"
   ]
  },
  {
   "cell_type": "markdown",
   "metadata": {},
   "source": [
    "### Accelerate Training"
   ]
  },
  {
   "cell_type": "code",
   "execution_count": 13,
   "metadata": {},
   "outputs": [
    {
     "name": "stdout",
     "output_type": "stream",
     "text": [
      "Device: cuda\n"
     ]
    },
    {
     "name": "stderr",
     "output_type": "stream",
     "text": [
      "Epoch 1:  34%|███▍      | 85/250 [00:26<00:49,  3.33it/s, loss=0.186] "
     ]
    }
   ],
   "source": [
    "import torch\n",
    "import evaluate\n",
    "from tqdm import tqdm\n",
    "import logging\n",
    "from accelerate import Accelerator\n",
    "\n",
    "accelerator = Accelerator()\n",
    "\n",
    "device = accelerator.device\n",
    "print(f\"Device: {device}\")\n",
    "\n",
    "# make sure everything is setup in the current environment for you to start training:\n",
    "# correct device etc. \n",
    "model, optimizer, train_dataloader, lr_scheduler = accelerator.prepare(\n",
    "    model, optimizer, train_dataloader, lr_scheduler\n",
    ")\n",
    "\n",
    "# epoch train loop\n",
    "for epoch in range(NUM_EPOCHS):\n",
    "  model.train()\n",
    "  # mini-batch train loop\n",
    "  with tqdm(train_dataloader) as pbar:\n",
    "      pbar.set_description(f\"Epoch {epoch+1}\")\n",
    "      for batch in pbar:\n",
    "        # reset gradient\n",
    "        optimizer.zero_grad()\n",
    "        # forward pass\n",
    "        outputs = model(**batch)\n",
    "        # backward pass\n",
    "        accelerator.backward(outputs.loss)\n",
    "        optimizer.step()\n",
    "        lr_scheduler.step()\n",
    "        pbar.set_postfix(loss=float(outputs.loss))"
   ]
  },
  {
   "cell_type": "markdown",
   "metadata": {},
   "source": [
    "###  Evaluate model"
   ]
  },
  {
   "cell_type": "code",
   "execution_count": null,
   "metadata": {},
   "outputs": [
    {
     "name": "stderr",
     "output_type": "stream",
     "text": [
      "100%|██████████| 32/32 [00:03<00:00, 10.42it/s]"
     ]
    },
    {
     "name": "stdout",
     "output_type": "stream",
     "text": [
      "Accuracy: 93.4%\n"
     ]
    },
    {
     "name": "stderr",
     "output_type": "stream",
     "text": [
      "\n"
     ]
    }
   ],
   "source": [
    "metric = evaluate.load(\"accuracy\")\n",
    "\n",
    "model,  eval_dataloader = accelerator.prepare(\n",
    "    model, eval_dataloader\n",
    ")\n",
    "\n",
    "model.eval()\n",
    "with tqdm(eval_dataloader) as pbar:\n",
    "    for batch in pbar:\n",
    "      # forward pass\n",
    "      with torch.no_grad():\n",
    "        outputs = model(**batch)\n",
    "      # get predicted label\n",
    "      predictions = outputs.logits.argmax(dim=-1)\n",
    "      # add to metric\n",
    "      metric.add_batch(references=batch[\"labels\"].tolist(), predictions=predictions.tolist())\n",
    "cur_metric = metric.compute()\n",
    "print(f\"Accuracy: {cur_metric['accuracy']*100}%\")"
   ]
  },
  {
   "cell_type": "code",
   "execution_count": null,
   "metadata": {},
   "outputs": [],
   "source": []
  }
 ],
 "metadata": {
  "kernelspec": {
   "display_name": "Python 3.9.13 ('dev')",
   "language": "python",
   "name": "python3"
  },
  "language_info": {
   "codemirror_mode": {
    "name": "ipython",
    "version": 3
   },
   "file_extension": ".py",
   "mimetype": "text/x-python",
   "name": "python",
   "nbconvert_exporter": "python",
   "pygments_lexer": "ipython3",
   "version": "3.9.13"
  },
  "orig_nbformat": 4,
  "vscode": {
   "interpreter": {
    "hash": "f6dd96c16031089903d5a31ec148b80aeb0d39c32affb1a1080393235fbfa2fc"
   }
  }
 },
 "nbformat": 4,
 "nbformat_minor": 2
}
